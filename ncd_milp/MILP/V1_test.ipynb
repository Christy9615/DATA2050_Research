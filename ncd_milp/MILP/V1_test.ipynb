{
 "cells": [
  {
   "cell_type": "code",
   "execution_count": 13,
   "metadata": {},
   "outputs": [],
   "source": [
    "from pyomo.opt import SolverFactory\n",
    "import pyomo.core as pyo\n",
    "import pyomo.environ\n",
    "import numpy as np\n",
    "import pandas as pd\n",
    "import gurobipy as gp"
   ]
  },
  {
   "cell_type": "code",
   "execution_count": 3,
   "metadata": {},
   "outputs": [],
   "source": [
    "# Load the data\n",
    "file_path = \"/Users/oscar/Documents/GitHub/Risk_Model_Research/ncd_milp/sim_milp/\"\n",
    "file_name = \"sim_50_3_2_7_1_1_data.csv\"  # Replace with your file name\n",
    "df = pd.read_csv(file_path + file_name) \n",
    "\n",
    "# Preprocessing the data\n",
    "#df = df.iloc[0:10,]\n",
    "y = df.iloc[:, 0].values\n",
    "X = df.iloc[:, 1:].values\n",
    "\n",
    "# Parameters\n",
    "n, p = X.shape\n",
    "M = 1000\n",
    "SK_pool = np.linspace(-5 * p, 5 * p + 1,10 * p + 2,dtype=int)\n",
    "PI = np.linspace(0, 1, 100)[1:-1]  # Exclude 0 and 1\n"
   ]
  },
  {
   "cell_type": "code",
   "execution_count": 10,
   "metadata": {},
   "outputs": [],
   "source": [
    "# Define the pyomo model\n",
    "model = pyo.ConcreteModel()\n",
    "\n",
    "# Variables\n",
    "model.beta = pyo.Var(range(p), within=pyo.Integers, bounds=(-5, 5))\n",
    "model.s = pyo.Var(range(n), within=pyo.Integers, bounds=(-10, 10))\n",
    "model.z_ik = pyo.Var(range(n), range(len(SK_pool)), within=pyo.Binary)\n",
    "model.p_ik = pyo.Var(range(n), range(len(SK_pool)), within=pyo.NonNegativeReals, bounds=(0.0001, 0.9999))\n",
    "model.p_k = pyo.Var(range(len(SK_pool)), within=pyo.NonNegativeReals, bounds=(0.0001, 0.9999))\n",
    "\n",
    "\n",
    "# Constraints\n",
    "def score_constraint_rule(model, i):\n",
    "    return sum(model.beta[j] * X[i, j] for j in range(p)) == model.s[i]\n",
    "model.score_constraint = pyo.Constraint(range(n), rule=score_constraint_rule)\n",
    "\n",
    "def z_ik_constraint_rule(model, i):\n",
    "    return sum(model.z_ik[i, k] for k in range(len(SK_pool))) == 1\n",
    "model.z_ik_constraint = pyo.Constraint(range(n), rule=z_ik_constraint_rule)\n",
    "\n",
    "def s_z_ik_constraint_rule_1(model, i, k):\n",
    "    return model.s[i] - k - M * (1 - model.z_ik[i, k]) <= 0\n",
    "model.s_z_ik_constraint_1 = pyo.Constraint(range(n), range(len(SK_pool)), rule=s_z_ik_constraint_rule_1)\n",
    "\n",
    "def s_z_ik_constraint_rule_2(model, i, k):\n",
    "    return model.s[i] - k + M * (1 - model.z_ik[i, k]) >= 0\n",
    "model.s_z_ik_constraint_2 = pyo.Constraint(range(n), range(len(SK_pool)), rule=s_z_ik_constraint_rule_2)\n",
    "\n",
    "def p_ik_constraint_rule_1(model, i, k):\n",
    "    return model.p_ik[i, k] - model.p_k[k] <= M * (1 - model.z_ik[i, k])\n",
    "model.p_ik_constraint_1 = pyo.Constraint(range(n), range(len(SK_pool)), rule=p_ik_constraint_rule_1)\n",
    "\n",
    "def p_ik_constraint_rule_2(model, i, k):\n",
    "    return model.p_ik[i, k] - model.p_k[k] >= -M * (1 - model.z_ik[i, k])\n",
    "model.p_ik_constraint_2 = pyo.Constraint(range(n), range(len(SK_pool)), rule=p_ik_constraint_rule_2)\n",
    "\n",
    "# Objective Function\n",
    "def objective_rule(model):\n",
    "    #return 0\n",
    "    return -sum(y[i] * pyo.log(model.p_ik[i, k]) + (1 - y[i]) * pyo.log(1 - model.p_ik[i, k])\n",
    "                for i in range(n) for k in range(len(SK_pool)))\n",
    "model.objective = pyo.Objective(rule=objective_rule)"
   ]
  },
  {
   "cell_type": "code",
   "execution_count": null,
   "metadata": {},
   "outputs": [],
   "source": [
    "# Solve the model gurobi\n",
    "opt = SolverFactory('gurobi')\n",
    "opt.options['MIPGap'] = 0.01\n",
    "opt.options['TimeLimit'] = 60\n",
    "opt.options['Threads'] = 1\n",
    "results = opt.solve(model)"
   ]
  },
  {
   "cell_type": "code",
   "execution_count": 18,
   "metadata": {},
   "outputs": [
    {
     "name": "stdout",
     "output_type": "stream",
     "text": [
      "WARNING: Failed to create solver with name 'couenne': Failed to set executable\n",
      "for solver asl. File with name=couenne either does not exist or it is not\n",
      "executable. To skip this validation, call set_executable with validate=False.\n",
      "Traceback (most recent call last):\n",
      "  File \"/Users/oscar/anaconda3/lib/python3.11/site-packages/pyomo/opt/base/solvers.py\", line 162, in __call__\n",
      "    opt = self._cls[_implicit_solvers[mode]](**kwds)\n",
      "          ^^^^^^^^^^^^^^^^^^^^^^^^^^^^^^^^^^^^^^^^^^\n",
      "  File \"/Users/oscar/anaconda3/lib/python3.11/site-packages/pyomo/solvers/plugins/solvers/ASL.py\", line 45, in __init__\n",
      "    SystemCallSolver.__init__(self, **kwds)\n",
      "  File \"/Users/oscar/anaconda3/lib/python3.11/site-packages/pyomo/opt/solver/shellcmd.py\", line 65, in __init__\n",
      "    self.set_executable(name=executable, validate=validate)\n",
      "  File \"/Users/oscar/anaconda3/lib/python3.11/site-packages/pyomo/opt/solver/shellcmd.py\", line 114, in set_executable\n",
      "    raise ValueError(\n",
      "ValueError: Failed to set executable for solver asl. File with name=couenne either does not exist or it is not executable. To skip this validation, call set_executable with validate=False.\n"
     ]
    },
    {
     "ename": "RuntimeError",
     "evalue": "Attempting to use an unavailable solver.\n\nThe SolverFactory was unable to create the solver \"couenne\"\nand returned an UnknownSolver object.  This error is raised at the point\nwhere the UnknownSolver object was used as if it were valid (by calling\nmethod \"solve\").\n\nThe original solver was created with the following parameters:\n\texecutable: couenne\n\ttype: couenne\n\t_args: ()\n\toptions: {}",
     "output_type": "error",
     "traceback": [
      "\u001b[0;31m---------------------------------------------------------------------------\u001b[0m",
      "\u001b[0;31mRuntimeError\u001b[0m                              Traceback (most recent call last)",
      "Cell \u001b[0;32mIn[18], line 6\u001b[0m\n\u001b[1;32m      2\u001b[0m solver \u001b[38;5;241m=\u001b[39m SolverFactory(\u001b[38;5;124m'\u001b[39m\u001b[38;5;124mcouenne\u001b[39m\u001b[38;5;124m'\u001b[39m)\n\u001b[1;32m      3\u001b[0m \u001b[38;5;66;03m#solver.options['bonmin.time_limit'] = 3600\u001b[39;00m\n\u001b[1;32m      4\u001b[0m \u001b[38;5;66;03m#solver.options['bonmin.cutoff_decr'] = 0.01  # or another small value to adjust the cutoff incrementally\u001b[39;00m\n\u001b[1;32m      5\u001b[0m \u001b[38;5;66;03m#solver.options['bonmin.allowable_gap'] = 1E-2  # Adjusts the gap considered acceptable for stopping.\u001b[39;00m\n\u001b[0;32m----> 6\u001b[0m solver\u001b[38;5;241m.\u001b[39msolve(model, tee\u001b[38;5;241m=\u001b[39m\u001b[38;5;28;01mTrue\u001b[39;00m)\u001b[38;5;241m.\u001b[39mwrite()\n",
      "File \u001b[0;32m~/anaconda3/lib/python3.11/site-packages/pyomo/opt/base/solvers.py:99\u001b[0m, in \u001b[0;36mUnknownSolver.solve\u001b[0;34m(self, *args, **kwds)\u001b[0m\n\u001b[1;32m     97\u001b[0m \u001b[38;5;28;01mdef\u001b[39;00m \u001b[38;5;21msolve\u001b[39m(\u001b[38;5;28mself\u001b[39m, \u001b[38;5;241m*\u001b[39margs, \u001b[38;5;241m*\u001b[39m\u001b[38;5;241m*\u001b[39mkwds):\n\u001b[1;32m     98\u001b[0m \u001b[38;5;250m    \u001b[39m\u001b[38;5;124;03m\"\"\"Perform optimization and return an SolverResults object.\"\"\"\u001b[39;00m\n\u001b[0;32m---> 99\u001b[0m     \u001b[38;5;28mself\u001b[39m\u001b[38;5;241m.\u001b[39m_solver_error(\u001b[38;5;124m'\u001b[39m\u001b[38;5;124msolve\u001b[39m\u001b[38;5;124m'\u001b[39m)\n",
      "File \u001b[0;32m~/anaconda3/lib/python3.11/site-packages/pyomo/opt/base/solvers.py:116\u001b[0m, in \u001b[0;36mUnknownSolver._solver_error\u001b[0;34m(self, method_name)\u001b[0m\n\u001b[1;32m    115\u001b[0m     \u001b[38;5;28;01mdef\u001b[39;00m \u001b[38;5;21m_solver_error\u001b[39m(\u001b[38;5;28mself\u001b[39m, method_name):\n\u001b[0;32m--> 116\u001b[0m         \u001b[38;5;28;01mraise\u001b[39;00m \u001b[38;5;167;01mRuntimeError\u001b[39;00m(\n\u001b[1;32m    117\u001b[0m \u001b[38;5;250m            \u001b[39m\u001b[38;5;124;03m\"\"\"Attempting to use an unavailable solver.\u001b[39;00m\n\u001b[1;32m    118\u001b[0m \n\u001b[1;32m    119\u001b[0m \u001b[38;5;124;03mThe SolverFactory was unable to create the solver \"%s\"\u001b[39;00m\n\u001b[1;32m    120\u001b[0m \u001b[38;5;124;03mand returned an UnknownSolver object.  This error is raised at the point\u001b[39;00m\n\u001b[1;32m    121\u001b[0m \u001b[38;5;124;03mwhere the UnknownSolver object was used as if it were valid (by calling\u001b[39;00m\n\u001b[1;32m    122\u001b[0m \u001b[38;5;124;03mmethod \"%s\").\u001b[39;00m\n\u001b[1;32m    123\u001b[0m \n\u001b[1;32m    124\u001b[0m \u001b[38;5;124;03mThe original solver was created with the following parameters:\u001b[39;00m\n\u001b[1;32m    125\u001b[0m \u001b[38;5;124;03m\\t\"\"\"\u001b[39;00m\n\u001b[1;32m    126\u001b[0m             \u001b[38;5;241m%\u001b[39m (\u001b[38;5;28mself\u001b[39m\u001b[38;5;241m.\u001b[39mtype, method_name)\n\u001b[1;32m    127\u001b[0m             \u001b[38;5;241m+\u001b[39m \u001b[38;5;124m\"\u001b[39m\u001b[38;5;130;01m\\n\u001b[39;00m\u001b[38;5;130;01m\\t\u001b[39;00m\u001b[38;5;124m\"\u001b[39m\u001b[38;5;241m.\u001b[39mjoin(\u001b[38;5;124m\"\u001b[39m\u001b[38;5;132;01m%s\u001b[39;00m\u001b[38;5;124m: \u001b[39m\u001b[38;5;132;01m%s\u001b[39;00m\u001b[38;5;124m\"\u001b[39m \u001b[38;5;241m%\u001b[39m i \u001b[38;5;28;01mfor\u001b[39;00m i \u001b[38;5;129;01min\u001b[39;00m \u001b[38;5;28msorted\u001b[39m(\u001b[38;5;28mself\u001b[39m\u001b[38;5;241m.\u001b[39m_kwds\u001b[38;5;241m.\u001b[39mitems()))\n\u001b[1;32m    128\u001b[0m             \u001b[38;5;241m+\u001b[39m \u001b[38;5;124m\"\u001b[39m\u001b[38;5;130;01m\\n\u001b[39;00m\u001b[38;5;130;01m\\t\u001b[39;00m\u001b[38;5;124m_args: \u001b[39m\u001b[38;5;132;01m%s\u001b[39;00m\u001b[38;5;124m\"\u001b[39m \u001b[38;5;241m%\u001b[39m (\u001b[38;5;28mself\u001b[39m\u001b[38;5;241m.\u001b[39m_args,)\n\u001b[1;32m    129\u001b[0m             \u001b[38;5;241m+\u001b[39m \u001b[38;5;124m\"\u001b[39m\u001b[38;5;130;01m\\n\u001b[39;00m\u001b[38;5;130;01m\\t\u001b[39;00m\u001b[38;5;124moptions: \u001b[39m\u001b[38;5;132;01m%s\u001b[39;00m\u001b[38;5;124m\"\u001b[39m \u001b[38;5;241m%\u001b[39m (\u001b[38;5;28mself\u001b[39m\u001b[38;5;241m.\u001b[39moptions,)\n\u001b[1;32m    130\u001b[0m         )\n",
      "\u001b[0;31mRuntimeError\u001b[0m: Attempting to use an unavailable solver.\n\nThe SolverFactory was unable to create the solver \"couenne\"\nand returned an UnknownSolver object.  This error is raised at the point\nwhere the UnknownSolver object was used as if it were valid (by calling\nmethod \"solve\").\n\nThe original solver was created with the following parameters:\n\texecutable: couenne\n\ttype: couenne\n\t_args: ()\n\toptions: {}"
     ]
    }
   ],
   "source": [
    "# Solve the model gurobi bonmin\n",
    "solver = SolverFactory('couenne')\n",
    "#solver.options['bonmin.time_limit'] = 3600\n",
    "#solver.options['bonmin.cutoff_decr'] = 0.01  # or another small value to adjust the cutoff incrementally\n",
    "#solver.options['bonmin.allowable_gap'] = 1E-2  # Adjusts the gap considered acceptable for stopping.\n",
    "solver.solve(model, tee=True).write()"
   ]
  },
  {
   "cell_type": "code",
   "execution_count": 16,
   "metadata": {},
   "outputs": [
    {
     "ename": "ValueError",
     "evalue": "Model objective (objective) contains nonlinear terms that cannot be written to LP format",
     "output_type": "error",
     "traceback": [
      "\u001b[0;31m---------------------------------------------------------------------------\u001b[0m",
      "\u001b[0;31mValueError\u001b[0m                                Traceback (most recent call last)",
      "Cell \u001b[0;32mIn[16], line 6\u001b[0m\n\u001b[1;32m      2\u001b[0m solver \u001b[38;5;241m=\u001b[39m SolverFactory(\u001b[38;5;124m'\u001b[39m\u001b[38;5;124mcbc\u001b[39m\u001b[38;5;124m'\u001b[39m)\n\u001b[1;32m      3\u001b[0m \u001b[38;5;66;03m#solver.options['bonmin.time_limit'] = 3600\u001b[39;00m\n\u001b[1;32m      4\u001b[0m \u001b[38;5;66;03m#solver.options['bonmin.cutoff_decr'] = 0.01  # or another small value to adjust the cutoff incrementally\u001b[39;00m\n\u001b[1;32m      5\u001b[0m \u001b[38;5;66;03m#solver.options['bonmin.allowable_gap'] = 1E-2  # Adjusts the gap considered acceptable for stopping.\u001b[39;00m\n\u001b[0;32m----> 6\u001b[0m solver\u001b[38;5;241m.\u001b[39msolve(model, tee\u001b[38;5;241m=\u001b[39m\u001b[38;5;28;01mTrue\u001b[39;00m)\u001b[38;5;241m.\u001b[39mwrite()\n",
      "File \u001b[0;32m~/anaconda3/lib/python3.11/site-packages/pyomo/opt/base/solvers.py:598\u001b[0m, in \u001b[0;36mOptSolver.solve\u001b[0;34m(self, *args, **kwds)\u001b[0m\n\u001b[1;32m    594\u001b[0m \u001b[38;5;28;01mtry\u001b[39;00m:\n\u001b[1;32m    595\u001b[0m     \u001b[38;5;66;03m# we're good to go.\u001b[39;00m\n\u001b[1;32m    596\u001b[0m     initial_time \u001b[38;5;241m=\u001b[39m time\u001b[38;5;241m.\u001b[39mtime()\n\u001b[0;32m--> 598\u001b[0m     \u001b[38;5;28mself\u001b[39m\u001b[38;5;241m.\u001b[39m_presolve(\u001b[38;5;241m*\u001b[39margs, \u001b[38;5;241m*\u001b[39m\u001b[38;5;241m*\u001b[39mkwds)\n\u001b[1;32m    600\u001b[0m     presolve_completion_time \u001b[38;5;241m=\u001b[39m time\u001b[38;5;241m.\u001b[39mtime()\n\u001b[1;32m    601\u001b[0m     \u001b[38;5;28;01mif\u001b[39;00m \u001b[38;5;28mself\u001b[39m\u001b[38;5;241m.\u001b[39m_report_timing:\n",
      "File \u001b[0;32m~/anaconda3/lib/python3.11/site-packages/pyomo/solvers/plugins/solvers/CBCplugin.py:261\u001b[0m, in \u001b[0;36mCBCSHELL._presolve\u001b[0;34m(self, *args, **kwds)\u001b[0m\n\u001b[1;32m    253\u001b[0m             logger\u001b[38;5;241m.\u001b[39mwarning(\n\u001b[1;32m    254\u001b[0m                 \u001b[38;5;124m\"\u001b[39m\u001b[38;5;124mwarmstart_file points to a file on a drive \u001b[39m\u001b[38;5;124m\"\u001b[39m\n\u001b[1;32m    255\u001b[0m                 \u001b[38;5;124m\"\u001b[39m\u001b[38;5;124mdifferent from the current working directory.  \u001b[39m\u001b[38;5;124m\"\u001b[39m\n\u001b[1;32m    256\u001b[0m                 \u001b[38;5;124m\"\u001b[39m\u001b[38;5;124mCBC is likely to (silently) ignore the warmstart.\u001b[39m\u001b[38;5;124m\"\u001b[39m\n\u001b[1;32m    257\u001b[0m             )\n\u001b[1;32m    259\u001b[0m \u001b[38;5;66;03m# let the base class handle any remaining keywords/actions.\u001b[39;00m\n\u001b[1;32m    260\u001b[0m \u001b[38;5;66;03m# let the base class handle any remaining keywords/actions.\u001b[39;00m\n\u001b[0;32m--> 261\u001b[0m \u001b[38;5;28msuper\u001b[39m(CBCSHELL, \u001b[38;5;28mself\u001b[39m)\u001b[38;5;241m.\u001b[39m_presolve(\u001b[38;5;241m*\u001b[39margs, \u001b[38;5;241m*\u001b[39m\u001b[38;5;241m*\u001b[39mkwds)\n\u001b[1;32m    263\u001b[0m \u001b[38;5;66;03m# NB: we must let the base class presolve run first so that the\u001b[39;00m\n\u001b[1;32m    264\u001b[0m \u001b[38;5;66;03m# symbol_map is actually constructed!\u001b[39;00m\n\u001b[1;32m    266\u001b[0m \u001b[38;5;28;01mif\u001b[39;00m (\u001b[38;5;28mlen\u001b[39m(args) \u001b[38;5;241m>\u001b[39m \u001b[38;5;241m0\u001b[39m) \u001b[38;5;129;01mand\u001b[39;00m (\u001b[38;5;129;01mnot\u001b[39;00m \u001b[38;5;28misinstance\u001b[39m(args[\u001b[38;5;241m0\u001b[39m], \u001b[38;5;28mstr\u001b[39m)):\n",
      "File \u001b[0;32m~/anaconda3/lib/python3.11/site-packages/pyomo/opt/solver/shellcmd.py:222\u001b[0m, in \u001b[0;36mSystemCallSolver._presolve\u001b[0;34m(self, *args, **kwds)\u001b[0m\n\u001b[1;32m    219\u001b[0m \u001b[38;5;28mself\u001b[39m\u001b[38;5;241m.\u001b[39m_keepfiles \u001b[38;5;241m=\u001b[39m kwds\u001b[38;5;241m.\u001b[39mpop(\u001b[38;5;124m\"\u001b[39m\u001b[38;5;124mkeepfiles\u001b[39m\u001b[38;5;124m\"\u001b[39m, \u001b[38;5;28;01mFalse\u001b[39;00m)\n\u001b[1;32m    220\u001b[0m \u001b[38;5;28mself\u001b[39m\u001b[38;5;241m.\u001b[39m_define_signal_handlers \u001b[38;5;241m=\u001b[39m kwds\u001b[38;5;241m.\u001b[39mpop(\u001b[38;5;124m'\u001b[39m\u001b[38;5;124muse_signal_handling\u001b[39m\u001b[38;5;124m'\u001b[39m, \u001b[38;5;28;01mNone\u001b[39;00m)\n\u001b[0;32m--> 222\u001b[0m OptSolver\u001b[38;5;241m.\u001b[39m_presolve(\u001b[38;5;28mself\u001b[39m, \u001b[38;5;241m*\u001b[39margs, \u001b[38;5;241m*\u001b[39m\u001b[38;5;241m*\u001b[39mkwds)\n\u001b[1;32m    224\u001b[0m \u001b[38;5;66;03m#\u001b[39;00m\n\u001b[1;32m    225\u001b[0m \u001b[38;5;66;03m# Verify that the input problems exists\u001b[39;00m\n\u001b[1;32m    226\u001b[0m \u001b[38;5;66;03m#\u001b[39;00m\n\u001b[1;32m    227\u001b[0m \u001b[38;5;28;01mfor\u001b[39;00m filename \u001b[38;5;129;01min\u001b[39;00m \u001b[38;5;28mself\u001b[39m\u001b[38;5;241m.\u001b[39m_problem_files:\n",
      "File \u001b[0;32m~/anaconda3/lib/python3.11/site-packages/pyomo/opt/base/solvers.py:704\u001b[0m, in \u001b[0;36mOptSolver._presolve\u001b[0;34m(self, *args, **kwds)\u001b[0m\n\u001b[1;32m    701\u001b[0m \u001b[38;5;28;01mif\u001b[39;00m \u001b[38;5;28mself\u001b[39m\u001b[38;5;241m.\u001b[39m_problem_format:\n\u001b[1;32m    702\u001b[0m     write_start_time \u001b[38;5;241m=\u001b[39m time\u001b[38;5;241m.\u001b[39mtime()\n\u001b[1;32m    703\u001b[0m     (\u001b[38;5;28mself\u001b[39m\u001b[38;5;241m.\u001b[39m_problem_files, \u001b[38;5;28mself\u001b[39m\u001b[38;5;241m.\u001b[39m_problem_format, \u001b[38;5;28mself\u001b[39m\u001b[38;5;241m.\u001b[39m_smap_id) \u001b[38;5;241m=\u001b[39m (\n\u001b[0;32m--> 704\u001b[0m         \u001b[38;5;28mself\u001b[39m\u001b[38;5;241m.\u001b[39m_convert_problem(\n\u001b[1;32m    705\u001b[0m             args, \u001b[38;5;28mself\u001b[39m\u001b[38;5;241m.\u001b[39m_problem_format, \u001b[38;5;28mself\u001b[39m\u001b[38;5;241m.\u001b[39m_valid_problem_formats, \u001b[38;5;241m*\u001b[39m\u001b[38;5;241m*\u001b[39mkwds\n\u001b[1;32m    706\u001b[0m         )\n\u001b[1;32m    707\u001b[0m     )\n\u001b[1;32m    708\u001b[0m     total_time \u001b[38;5;241m=\u001b[39m time\u001b[38;5;241m.\u001b[39mtime() \u001b[38;5;241m-\u001b[39m write_start_time\n\u001b[1;32m    709\u001b[0m     \u001b[38;5;28;01mif\u001b[39;00m \u001b[38;5;28mself\u001b[39m\u001b[38;5;241m.\u001b[39m_report_timing:\n",
      "File \u001b[0;32m~/anaconda3/lib/python3.11/site-packages/pyomo/opt/base/solvers.py:756\u001b[0m, in \u001b[0;36mOptSolver._convert_problem\u001b[0;34m(self, args, problem_format, valid_problem_formats, **kwds)\u001b[0m\n\u001b[1;32m    755\u001b[0m \u001b[38;5;28;01mdef\u001b[39;00m \u001b[38;5;21m_convert_problem\u001b[39m(\u001b[38;5;28mself\u001b[39m, args, problem_format, valid_problem_formats, \u001b[38;5;241m*\u001b[39m\u001b[38;5;241m*\u001b[39mkwds):\n\u001b[0;32m--> 756\u001b[0m     \u001b[38;5;28;01mreturn\u001b[39;00m convert_problem(\n\u001b[1;32m    757\u001b[0m         args, problem_format, valid_problem_formats, \u001b[38;5;28mself\u001b[39m\u001b[38;5;241m.\u001b[39mhas_capability, \u001b[38;5;241m*\u001b[39m\u001b[38;5;241m*\u001b[39mkwds\n\u001b[1;32m    758\u001b[0m     )\n",
      "File \u001b[0;32m~/anaconda3/lib/python3.11/site-packages/pyomo/opt/base/convert.py:97\u001b[0m, in \u001b[0;36mconvert_problem\u001b[0;34m(args, target_problem_type, valid_problem_types, has_capability, **kwds)\u001b[0m\n\u001b[1;32m     95\u001b[0m                 tmpkw \u001b[38;5;241m=\u001b[39m kwds\n\u001b[1;32m     96\u001b[0m                 tmpkw[\u001b[38;5;124m'\u001b[39m\u001b[38;5;124mcapabilities\u001b[39m\u001b[38;5;124m'\u001b[39m] \u001b[38;5;241m=\u001b[39m has_capability\n\u001b[0;32m---> 97\u001b[0m                 problem_files, symbol_map \u001b[38;5;241m=\u001b[39m converter\u001b[38;5;241m.\u001b[39mapply(\u001b[38;5;241m*\u001b[39mtmp, \u001b[38;5;241m*\u001b[39m\u001b[38;5;241m*\u001b[39mtmpkw)\n\u001b[1;32m     98\u001b[0m                 \u001b[38;5;28;01mreturn\u001b[39;00m problem_files, ptype, symbol_map\n\u001b[1;32m    100\u001b[0m msg \u001b[38;5;241m=\u001b[39m \u001b[38;5;124m'\u001b[39m\u001b[38;5;124mNo conversion possible.  Source problem type: \u001b[39m\u001b[38;5;132;01m%s\u001b[39;00m\u001b[38;5;124m.  Valid target types: \u001b[39m\u001b[38;5;132;01m%s\u001b[39;00m\u001b[38;5;124m'\u001b[39m\n",
      "File \u001b[0;32m~/anaconda3/lib/python3.11/site-packages/pyomo/solvers/plugins/converter/model.py:78\u001b[0m, in \u001b[0;36mPyomoMIPConverter.apply\u001b[0;34m(self, *args, **kwds)\u001b[0m\n\u001b[1;32m     70\u001b[0m         symbol_map_id \u001b[38;5;241m=\u001b[39m instance\u001b[38;5;241m.\u001b[39mwrite(\n\u001b[1;32m     71\u001b[0m             problem_filename,\n\u001b[1;32m     72\u001b[0m             \u001b[38;5;28mformat\u001b[39m\u001b[38;5;241m=\u001b[39mProblemFormat\u001b[38;5;241m.\u001b[39mcpxlp,\n\u001b[0;32m   (...)\u001b[0m\n\u001b[1;32m     75\u001b[0m             \u001b[38;5;241m*\u001b[39m\u001b[38;5;241m*\u001b[39mio_options\n\u001b[1;32m     76\u001b[0m         )\n\u001b[1;32m     77\u001b[0m     \u001b[38;5;28;01melse\u001b[39;00m:\n\u001b[0;32m---> 78\u001b[0m         (problem_filename, symbol_map_id) \u001b[38;5;241m=\u001b[39m instance\u001b[38;5;241m.\u001b[39mwrite(\n\u001b[1;32m     79\u001b[0m             filename\u001b[38;5;241m=\u001b[39mproblem_filename,\n\u001b[1;32m     80\u001b[0m             \u001b[38;5;28mformat\u001b[39m\u001b[38;5;241m=\u001b[39mProblemFormat\u001b[38;5;241m.\u001b[39mcpxlp,\n\u001b[1;32m     81\u001b[0m             solver_capability\u001b[38;5;241m=\u001b[39mcapabilities,\n\u001b[1;32m     82\u001b[0m             io_options\u001b[38;5;241m=\u001b[39mio_options,\n\u001b[1;32m     83\u001b[0m         )\n\u001b[1;32m     84\u001b[0m     \u001b[38;5;28;01mreturn\u001b[39;00m (problem_filename,), symbol_map_id\n\u001b[1;32m     85\u001b[0m \u001b[38;5;28;01melse\u001b[39;00m:\n\u001b[1;32m     86\u001b[0m     \u001b[38;5;66;03m#\u001b[39;00m\n\u001b[1;32m     87\u001b[0m     \u001b[38;5;66;03m# I'm simply exposing a fatal issue with\u001b[39;00m\n\u001b[0;32m   (...)\u001b[0m\n\u001b[1;32m     90\u001b[0m     \u001b[38;5;66;03m# arguments that can be sent to the writer?\u001b[39;00m\n\u001b[1;32m     91\u001b[0m     \u001b[38;5;66;03m#\u001b[39;00m\n",
      "File \u001b[0;32m~/anaconda3/lib/python3.11/site-packages/pyomo/core/base/block.py:1937\u001b[0m, in \u001b[0;36m_BlockData.write\u001b[0;34m(self, filename, format, solver_capability, io_options, int_marker)\u001b[0m\n\u001b[1;32m   1934\u001b[0m     \u001b[38;5;28;01mdef\u001b[39;00m \u001b[38;5;21msolver_capability\u001b[39m(x):\n\u001b[1;32m   1935\u001b[0m         \u001b[38;5;28;01mreturn\u001b[39;00m \u001b[38;5;28;01mTrue\u001b[39;00m\n\u001b[0;32m-> 1937\u001b[0m (filename, smap) \u001b[38;5;241m=\u001b[39m problem_writer(\u001b[38;5;28mself\u001b[39m, filename, solver_capability, io_options)\n\u001b[1;32m   1938\u001b[0m smap_id \u001b[38;5;241m=\u001b[39m \u001b[38;5;28mid\u001b[39m(smap)\n\u001b[1;32m   1939\u001b[0m \u001b[38;5;28;01mif\u001b[39;00m \u001b[38;5;129;01mnot\u001b[39;00m \u001b[38;5;28mhasattr\u001b[39m(\u001b[38;5;28mself\u001b[39m, \u001b[38;5;124m'\u001b[39m\u001b[38;5;124msolutions\u001b[39m\u001b[38;5;124m'\u001b[39m):\n\u001b[1;32m   1940\u001b[0m     \u001b[38;5;66;03m# This is a bit of a hack.  The write() method was moved\u001b[39;00m\n\u001b[1;32m   1941\u001b[0m     \u001b[38;5;66;03m# here from PyomoModel to support the solution of arbitrary\u001b[39;00m\n\u001b[0;32m   (...)\u001b[0m\n\u001b[1;32m   1946\u001b[0m     \u001b[38;5;66;03m# dependency (we only need it here because we store the\u001b[39;00m\n\u001b[1;32m   1947\u001b[0m     \u001b[38;5;66;03m# SymbolMap returned by the writer in the solutions).\u001b[39;00m\n",
      "File \u001b[0;32m~/anaconda3/lib/python3.11/site-packages/pyomo/repn/plugins/lp_writer.py:208\u001b[0m, in \u001b[0;36mLPWriter.__call__\u001b[0;34m(self, model, filename, solver_capability, io_options)\u001b[0m\n\u001b[1;32m    205\u001b[0m     io_options[\u001b[38;5;124m'\u001b[39m\u001b[38;5;124mallow_quadratic_constraint\u001b[39m\u001b[38;5;124m'\u001b[39m] \u001b[38;5;241m=\u001b[39m qc\n\u001b[1;32m    207\u001b[0m \u001b[38;5;28;01mwith\u001b[39;00m \u001b[38;5;28mopen\u001b[39m(filename, \u001b[38;5;124m'\u001b[39m\u001b[38;5;124mw\u001b[39m\u001b[38;5;124m'\u001b[39m, newline\u001b[38;5;241m=\u001b[39m\u001b[38;5;124m'\u001b[39m\u001b[38;5;124m'\u001b[39m) \u001b[38;5;28;01mas\u001b[39;00m FILE:\n\u001b[0;32m--> 208\u001b[0m     info \u001b[38;5;241m=\u001b[39m \u001b[38;5;28mself\u001b[39m\u001b[38;5;241m.\u001b[39mwrite(model, FILE, \u001b[38;5;241m*\u001b[39m\u001b[38;5;241m*\u001b[39mio_options)\n\u001b[1;32m    209\u001b[0m \u001b[38;5;28;01mreturn\u001b[39;00m filename, info\u001b[38;5;241m.\u001b[39msymbol_map\n",
      "File \u001b[0;32m~/anaconda3/lib/python3.11/site-packages/pyomo/repn/plugins/lp_writer.py:241\u001b[0m, in \u001b[0;36mLPWriter.write\u001b[0;34m(self, model, ostream, **options)\u001b[0m\n\u001b[1;32m    237\u001b[0m \u001b[38;5;66;03m# Pause the GC, as the walker that generates the compiled LP\u001b[39;00m\n\u001b[1;32m    238\u001b[0m \u001b[38;5;66;03m# representation generates (and disposes of) a large number of\u001b[39;00m\n\u001b[1;32m    239\u001b[0m \u001b[38;5;66;03m# small objects.\u001b[39;00m\n\u001b[1;32m    240\u001b[0m \u001b[38;5;28;01mwith\u001b[39;00m PauseGC():\n\u001b[0;32m--> 241\u001b[0m     \u001b[38;5;28;01mreturn\u001b[39;00m _LPWriter_impl(ostream, config)\u001b[38;5;241m.\u001b[39mwrite(model)\n",
      "File \u001b[0;32m~/anaconda3/lib/python3.11/site-packages/pyomo/repn/plugins/lp_writer.py:378\u001b[0m, in \u001b[0;36m_LPWriter_impl.write\u001b[0;34m(self, model)\u001b[0m\n\u001b[1;32m    376\u001b[0m repn \u001b[38;5;241m=\u001b[39m objective_visitor\u001b[38;5;241m.\u001b[39mwalk_expression(obj\u001b[38;5;241m.\u001b[39mexpr)\n\u001b[1;32m    377\u001b[0m \u001b[38;5;28;01mif\u001b[39;00m repn\u001b[38;5;241m.\u001b[39mnonlinear \u001b[38;5;129;01mis\u001b[39;00m \u001b[38;5;129;01mnot\u001b[39;00m \u001b[38;5;28;01mNone\u001b[39;00m:\n\u001b[0;32m--> 378\u001b[0m     \u001b[38;5;28;01mraise\u001b[39;00m \u001b[38;5;167;01mValueError\u001b[39;00m(\n\u001b[1;32m    379\u001b[0m         \u001b[38;5;124mf\u001b[39m\u001b[38;5;124m\"\u001b[39m\u001b[38;5;124mModel objective (\u001b[39m\u001b[38;5;132;01m{\u001b[39;00mobj\u001b[38;5;241m.\u001b[39mname\u001b[38;5;132;01m}\u001b[39;00m\u001b[38;5;124m) contains nonlinear terms that \u001b[39m\u001b[38;5;124m\"\u001b[39m\n\u001b[1;32m    380\u001b[0m         \u001b[38;5;124m\"\u001b[39m\u001b[38;5;124mcannot be written to LP format\u001b[39m\u001b[38;5;124m\"\u001b[39m\n\u001b[1;32m    381\u001b[0m     )\n\u001b[1;32m    382\u001b[0m \u001b[38;5;28;01mif\u001b[39;00m repn\u001b[38;5;241m.\u001b[39mconstant \u001b[38;5;129;01mor\u001b[39;00m \u001b[38;5;129;01mnot\u001b[39;00m (repn\u001b[38;5;241m.\u001b[39mlinear \u001b[38;5;129;01mor\u001b[39;00m \u001b[38;5;28mgetattr\u001b[39m(repn, \u001b[38;5;124m'\u001b[39m\u001b[38;5;124mquadratic\u001b[39m\u001b[38;5;124m'\u001b[39m, \u001b[38;5;28;01mNone\u001b[39;00m)):\n\u001b[1;32m    383\u001b[0m     \u001b[38;5;66;03m# Older versions of CPLEX (including 12.6) and all versions\u001b[39;00m\n\u001b[1;32m    384\u001b[0m     \u001b[38;5;66;03m# of GLPK (through 5.0) do not support constants in the\u001b[39;00m\n\u001b[0;32m   (...)\u001b[0m\n\u001b[1;32m    390\u001b[0m     \u001b[38;5;66;03m# objective, this will ensure we at least write out\u001b[39;00m\n\u001b[1;32m    391\u001b[0m     \u001b[38;5;66;03m# 0*ONE_VAR_CONSTANT.\u001b[39;00m\n\u001b[1;32m    392\u001b[0m     repn\u001b[38;5;241m.\u001b[39mlinear[\u001b[38;5;28mid\u001b[39m(ONE_VAR_CONSTANT)] \u001b[38;5;241m=\u001b[39m repn\u001b[38;5;241m.\u001b[39mconstant\n",
      "\u001b[0;31mValueError\u001b[0m: Model objective (objective) contains nonlinear terms that cannot be written to LP format"
     ]
    }
   ],
   "source": [
    "# Solve the model gurobi bonmin\n",
    "solver = SolverFactory('cbc')\n",
    "#solver.options['bonmin.time_limit'] = 3600\n",
    "#solver.options['bonmin.cutoff_decr'] = 0.01  # or another small value to adjust the cutoff incrementally\n",
    "#solver.options['bonmin.allowable_gap'] = 1E-2  # Adjusts the gap considered acceptable for stopping.\n",
    "solver.solve(model, tee=True).write()"
   ]
  }
 ],
 "metadata": {
  "kernelspec": {
   "display_name": "base",
   "language": "python",
   "name": "python3"
  },
  "language_info": {
   "codemirror_mode": {
    "name": "ipython",
    "version": 3
   },
   "file_extension": ".py",
   "mimetype": "text/x-python",
   "name": "python",
   "nbconvert_exporter": "python",
   "pygments_lexer": "ipython3",
   "version": "3.11.8"
  }
 },
 "nbformat": 4,
 "nbformat_minor": 2
}
