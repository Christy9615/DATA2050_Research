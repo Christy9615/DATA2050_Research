{
 "cells": [
  {
   "cell_type": "code",
   "execution_count": 5,
   "metadata": {},
   "outputs": [
    {
     "ename": "ImportError",
     "evalue": "cannot import name 'log' from 'gurobipy' (/Users/oscar/anaconda3/lib/python3.11/site-packages/gurobipy/__init__.py)",
     "output_type": "error",
     "traceback": [
      "\u001b[0;31m---------------------------------------------------------------------------\u001b[0m",
      "\u001b[0;31mImportError\u001b[0m                               Traceback (most recent call last)",
      "Cell \u001b[0;32mIn[5], line 2\u001b[0m\n\u001b[1;32m      1\u001b[0m \u001b[38;5;28;01mimport\u001b[39;00m \u001b[38;5;21;01mgurobipy\u001b[39;00m \u001b[38;5;28;01mas\u001b[39;00m \u001b[38;5;21;01mgp\u001b[39;00m\n\u001b[0;32m----> 2\u001b[0m \u001b[38;5;28;01mfrom\u001b[39;00m \u001b[38;5;21;01mgurobipy\u001b[39;00m \u001b[38;5;28;01mimport\u001b[39;00m Model, GRB, quicksum,log\n\u001b[1;32m      3\u001b[0m \u001b[38;5;28;01mimport\u001b[39;00m \u001b[38;5;21;01mnumpy\u001b[39;00m \u001b[38;5;28;01mas\u001b[39;00m \u001b[38;5;21;01mnp\u001b[39;00m\n\u001b[1;32m      4\u001b[0m \u001b[38;5;28;01mimport\u001b[39;00m \u001b[38;5;21;01mpandas\u001b[39;00m \u001b[38;5;28;01mas\u001b[39;00m \u001b[38;5;21;01mpd\u001b[39;00m\n",
      "\u001b[0;31mImportError\u001b[0m: cannot import name 'log' from 'gurobipy' (/Users/oscar/anaconda3/lib/python3.11/site-packages/gurobipy/__init__.py)"
     ]
    }
   ],
   "source": [
    "import gurobipy as gp\n",
    "from gurobipy import Model, GRB, quicksum\n",
    "import numpy as np\n",
    "import pandas as pd"
   ]
  },
  {
   "cell_type": "code",
   "execution_count": 3,
   "metadata": {},
   "outputs": [],
   "source": [
    "# Load the data\n",
    "file_path = \"/Users/oscar/Documents/GitHub/Risk_Model_Research/ncd_milp/sim_milp/\"\n",
    "file_name = \"sim_50_3_2_7_1_1_data.csv\"  # Replace with your file name\n",
    "df = pd.read_csv(file_path + file_name) \n",
    "\n",
    "# Preprocessing the data\n",
    "#df = df.iloc[0:10,]\n",
    "y = df.iloc[:, 0].values\n",
    "X = df.iloc[:, 1:].values\n",
    "\n",
    "# Parameters\n",
    "n, p = X.shape\n",
    "M = 1000\n",
    "SK_pool = np.linspace(-5 * p, 5 * p + 1,10 * p + 2,dtype=int)\n",
    "PI = np.linspace(0, 1, 100)[1:-1]  # Exclude 0 and 1"
   ]
  },
  {
   "cell_type": "code",
   "execution_count": 4,
   "metadata": {},
   "outputs": [
    {
     "name": "stdout",
     "output_type": "stream",
     "text": [
      "Set parameter Username\n",
      "Academic license - for non-commercial use only - expires 2025-02-25\n"
     ]
    },
    {
     "ename": "NameError",
     "evalue": "name 'log' is not defined",
     "output_type": "error",
     "traceback": [
      "\u001b[0;31m---------------------------------------------------------------------------\u001b[0m",
      "\u001b[0;31mNameError\u001b[0m                                 Traceback (most recent call last)",
      "Cell \u001b[0;32mIn[4], line 35\u001b[0m\n\u001b[1;32m     32\u001b[0m         m\u001b[38;5;241m.\u001b[39maddConstr(p_ik[i, k] \u001b[38;5;241m-\u001b[39m p_k[k] \u001b[38;5;241m>\u001b[39m\u001b[38;5;241m=\u001b[39m \u001b[38;5;241m-\u001b[39mM \u001b[38;5;241m*\u001b[39m (\u001b[38;5;241m1\u001b[39m \u001b[38;5;241m-\u001b[39m z_ik[i, k]), name\u001b[38;5;241m=\u001b[39m\u001b[38;5;124mf\u001b[39m\u001b[38;5;124m\"\u001b[39m\u001b[38;5;124mp_ik_constraint_2_\u001b[39m\u001b[38;5;132;01m{\u001b[39;00mi\u001b[38;5;132;01m}\u001b[39;00m\u001b[38;5;124m_\u001b[39m\u001b[38;5;132;01m{\u001b[39;00mk\u001b[38;5;132;01m}\u001b[39;00m\u001b[38;5;124m\"\u001b[39m)\n\u001b[1;32m     34\u001b[0m \u001b[38;5;66;03m# Objective function\u001b[39;00m\n\u001b[0;32m---> 35\u001b[0m obj \u001b[38;5;241m=\u001b[39m quicksum(\u001b[38;5;241m-\u001b[39my[i] \u001b[38;5;241m*\u001b[39m log(p_ik[i, k]) \u001b[38;5;241m-\u001b[39m (\u001b[38;5;241m1\u001b[39m \u001b[38;5;241m-\u001b[39m y[i]) \u001b[38;5;241m*\u001b[39m log(\u001b[38;5;241m1\u001b[39m \u001b[38;5;241m-\u001b[39m p_ik[i, k])\n\u001b[1;32m     36\u001b[0m                \u001b[38;5;28;01mfor\u001b[39;00m i \u001b[38;5;129;01min\u001b[39;00m \u001b[38;5;28mrange\u001b[39m(n) \u001b[38;5;28;01mfor\u001b[39;00m k \u001b[38;5;129;01min\u001b[39;00m \u001b[38;5;28mrange\u001b[39m(\u001b[38;5;28mlen\u001b[39m(SK_pool)))\n\u001b[1;32m     37\u001b[0m m\u001b[38;5;241m.\u001b[39msetObjective(obj, GRB\u001b[38;5;241m.\u001b[39mMINIMIZE)\n\u001b[1;32m     39\u001b[0m \u001b[38;5;66;03m# Optimize model\u001b[39;00m\n",
      "File \u001b[0;32msrc/gurobipy/gurobi.pxi:3842\u001b[0m, in \u001b[0;36mgurobipy.quicksum\u001b[0;34m()\u001b[0m\n",
      "Cell \u001b[0;32mIn[4], line 35\u001b[0m, in \u001b[0;36m<genexpr>\u001b[0;34m(.0)\u001b[0m\n\u001b[1;32m     32\u001b[0m         m\u001b[38;5;241m.\u001b[39maddConstr(p_ik[i, k] \u001b[38;5;241m-\u001b[39m p_k[k] \u001b[38;5;241m>\u001b[39m\u001b[38;5;241m=\u001b[39m \u001b[38;5;241m-\u001b[39mM \u001b[38;5;241m*\u001b[39m (\u001b[38;5;241m1\u001b[39m \u001b[38;5;241m-\u001b[39m z_ik[i, k]), name\u001b[38;5;241m=\u001b[39m\u001b[38;5;124mf\u001b[39m\u001b[38;5;124m\"\u001b[39m\u001b[38;5;124mp_ik_constraint_2_\u001b[39m\u001b[38;5;132;01m{\u001b[39;00mi\u001b[38;5;132;01m}\u001b[39;00m\u001b[38;5;124m_\u001b[39m\u001b[38;5;132;01m{\u001b[39;00mk\u001b[38;5;132;01m}\u001b[39;00m\u001b[38;5;124m\"\u001b[39m)\n\u001b[1;32m     34\u001b[0m \u001b[38;5;66;03m# Objective function\u001b[39;00m\n\u001b[0;32m---> 35\u001b[0m obj \u001b[38;5;241m=\u001b[39m quicksum(\u001b[38;5;241m-\u001b[39my[i] \u001b[38;5;241m*\u001b[39m log(p_ik[i, k]) \u001b[38;5;241m-\u001b[39m (\u001b[38;5;241m1\u001b[39m \u001b[38;5;241m-\u001b[39m y[i]) \u001b[38;5;241m*\u001b[39m log(\u001b[38;5;241m1\u001b[39m \u001b[38;5;241m-\u001b[39m p_ik[i, k])\n\u001b[1;32m     36\u001b[0m                \u001b[38;5;28;01mfor\u001b[39;00m i \u001b[38;5;129;01min\u001b[39;00m \u001b[38;5;28mrange\u001b[39m(n) \u001b[38;5;28;01mfor\u001b[39;00m k \u001b[38;5;129;01min\u001b[39;00m \u001b[38;5;28mrange\u001b[39m(\u001b[38;5;28mlen\u001b[39m(SK_pool)))\n\u001b[1;32m     37\u001b[0m m\u001b[38;5;241m.\u001b[39msetObjective(obj, GRB\u001b[38;5;241m.\u001b[39mMINIMIZE)\n\u001b[1;32m     39\u001b[0m \u001b[38;5;66;03m# Optimize model\u001b[39;00m\n",
      "\u001b[0;31mNameError\u001b[0m: name 'log' is not defined"
     ]
    }
   ],
   "source": [
    "# Initialize Gurobi model\n",
    "m = Model(\"model\")\n",
    "\n",
    "# Assuming p, n, SK_pool, X, y, and M are defined elsewhere in your code\n",
    "\n",
    "# Variables\n",
    "beta = m.addVars(p, vtype=GRB.INTEGER, lb=-5, ub=5, name=\"beta\")\n",
    "s = m.addVars(n, vtype=GRB.INTEGER, lb=-10, ub=10, name=\"s\")\n",
    "z_ik = m.addVars(n, len(SK_pool), vtype=GRB.BINARY, name=\"z_ik\")\n",
    "p_ik = m.addVars(n, len(SK_pool), vtype=GRB.CONTINUOUS, lb=0.0001, ub=0.9999, name=\"p_ik\")\n",
    "p_k = m.addVars(len(SK_pool), vtype=GRB.CONTINUOUS, lb=0.0001, ub=0.9999, name=\"p_k\")\n",
    "\n",
    "# Constraints\n",
    "# Score constraint\n",
    "for i in range(n):\n",
    "    m.addConstr(quicksum(beta[j] * X[i, j] for j in range(p)) == s[i], name=f\"score_constraint_{i}\")\n",
    "\n",
    "# z_ik constraint\n",
    "for i in range(n):\n",
    "    m.addConstr(quicksum(z_ik[i, k] for k in range(len(SK_pool))) == 1, name=f\"z_ik_constraint_{i}\")\n",
    "\n",
    "# s_z_ik constraints\n",
    "for i in range(n):\n",
    "    for k in range(len(SK_pool)):\n",
    "        m.addConstr(s[i] - k - M * (1 - z_ik[i, k]) <= 0, name=f\"s_z_ik_constraint_1_{i}_{k}\")\n",
    "        m.addConstr(s[i] - k + M * (1 - z_ik[i, k]) >= 0, name=f\"s_z_ik_constraint_2_{i}_{k}\")\n",
    "\n",
    "# p_ik constraints\n",
    "for i in range(n):\n",
    "    for k in range(len(SK_pool)):\n",
    "        m.addConstr(p_ik[i, k] - p_k[k] <= M * (1 - z_ik[i, k]), name=f\"p_ik_constraint_1_{i}_{k}\")\n",
    "        m.addConstr(p_ik[i, k] - p_k[k] >= -M * (1 - z_ik[i, k]), name=f\"p_ik_constraint_2_{i}_{k}\")\n",
    "\n",
    "# Objective function\n",
    "obj = quicksum(-y[i] * log(p_ik[i, k]) - (1 - y[i]) * log(1 - p_ik[i, k])\n",
    "               for i in range(n) for k in range(len(SK_pool)))\n",
    "m.setObjective(obj, GRB.MINIMIZE)\n",
    "\n",
    "# Optimize model\n",
    "m.optimize()\n"
   ]
  },
  {
   "cell_type": "code",
   "execution_count": null,
   "metadata": {},
   "outputs": [],
   "source": [
    "\n",
    "# Display variable values (if needed)\n",
    "for v in m.getVars():\n",
    "    print(f\"{v.varName} = {v.x}\")\n",
    "\n",
    "print(f\"Obj: {m.objVal}\")"
   ]
  }
 ],
 "metadata": {
  "kernelspec": {
   "display_name": "base",
   "language": "python",
   "name": "python3"
  },
  "language_info": {
   "codemirror_mode": {
    "name": "ipython",
    "version": 3
   },
   "file_extension": ".py",
   "mimetype": "text/x-python",
   "name": "python",
   "nbconvert_exporter": "python",
   "pygments_lexer": "ipython3",
   "version": "3.11.8"
  }
 },
 "nbformat": 4,
 "nbformat_minor": 2
}
